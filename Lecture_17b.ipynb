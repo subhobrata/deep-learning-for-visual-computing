{
  "nbformat": 4,
  "nbformat_minor": 0,
  "metadata": {
    "colab": {
      "name": "Lecture-17b.ipynb",
      "version": "0.3.2",
      "provenance": [],
      "include_colab_link": true
    },
    "kernelspec": {
      "name": "python2",
      "display_name": "Python 2"
    }
  },
  "cells": [
    {
      "cell_type": "markdown",
      "metadata": {
        "id": "view-in-github",
        "colab_type": "text"
      },
      "source": [
        "<a href=\"https://colab.research.google.com/github/subhobrata/deep-learning-for-visual-computing/blob/master/Lecture_17b.ipynb\" target=\"_parent\"><img src=\"https://colab.research.google.com/assets/colab-badge.svg\" alt=\"Open In Colab\"/></a>"
      ]
    },
    {
      "metadata": {
        "id": "L-kqz1fhV_yq",
        "colab_type": "code",
        "colab": {}
      },
      "cell_type": "code",
      "source": [
        "%matplotlib inline\n",
        "import torch\n",
        "from PIL import Image\n",
        "import matplotlib.pyplot as plt\n",
        "import numpy as np\n",
        "import torchvision\n",
        "import torchvision.transforms as transforms\n",
        "from torch.autograd import Variable\n",
        "from torch.autograd import Function\n",
        "import torch.nn as nn\n",
        "import torch.nn.functional as F\n",
        "import torch.optim as optim"
      ],
      "execution_count": 0,
      "outputs": []
    },
    {
      "metadata": {
        "id": "2uS5w3zFWIXp",
        "colab_type": "code",
        "colab": {
          "base_uri": "https://localhost:8080/",
          "height": 119
        },
        "outputId": "104bf55c-f16a-44c4-c450-3794aeb531d8"
      },
      "cell_type": "code",
      "source": [
        "transform = transforms.Compose([transforms.ToTensor()])\n",
        "BatchSize = 1000\n",
        "\n",
        "trainset = torchvision.datasets.FashionMNIST(root='./FMNIST', train=True,\n",
        "                                        download=True, transform=transform)\n",
        "trainloader = torch.utils.data.DataLoader(trainset, batch_size=BatchSize,\n",
        "                                          shuffle=True, num_workers=4) # Creating dataloader\n",
        "\n",
        "testset = torchvision.datasets.FashionMNIST(root='./FMNIST', train=False,\n",
        "                                       download=True, transform=transform)\n",
        "testloader = torch.utils.data.DataLoader(testset, batch_size=BatchSize,\n",
        "                                         shuffle=False, num_workers=4) # Creating dataloader"
      ],
      "execution_count": 2,
      "outputs": [
        {
          "output_type": "stream",
          "text": [
            "Downloading http://fashion-mnist.s3-website.eu-central-1.amazonaws.com/train-images-idx3-ubyte.gz\n",
            "Downloading http://fashion-mnist.s3-website.eu-central-1.amazonaws.com/train-labels-idx1-ubyte.gz\n",
            "Downloading http://fashion-mnist.s3-website.eu-central-1.amazonaws.com/t10k-images-idx3-ubyte.gz\n",
            "Downloading http://fashion-mnist.s3-website.eu-central-1.amazonaws.com/t10k-labels-idx1-ubyte.gz\n",
            "Processing...\n",
            "Done!\n"
          ],
          "name": "stdout"
        }
      ]
    },
    {
      "metadata": {
        "id": "7inlB-PzWNdA",
        "colab_type": "code",
        "colab": {}
      },
      "cell_type": "code",
      "source": [
        "# Check availability of GPU\n",
        "use_gpu = torch.cuda.is_available()\n",
        "if use_gpu:\n",
        "    print('GPU is available!')"
      ],
      "execution_count": 0,
      "outputs": []
    },
    {
      "metadata": {
        "id": "QSY-Fg-2WSDI",
        "colab_type": "code",
        "colab": {
          "base_uri": "https://localhost:8080/",
          "height": 187
        },
        "outputId": "a5d67851-8dce-4683-a1ee-d04dd7717d7a"
      },
      "cell_type": "code",
      "source": [
        "class autoencoder(nn.Module):\n",
        "    def __init__(self):\n",
        "        super(autoencoder, self).__init__()\n",
        "        self.encoder = nn.Sequential(\n",
        "            nn.Linear(28*28, 400),\n",
        "            nn.Tanh())\n",
        "        self.decoder = nn.Sequential(\n",
        "            nn.Linear(400, 28*28),\n",
        "            nn.Sigmoid())\n",
        "\n",
        "    def forward(self, x):\n",
        "        x = self.encoder(x)\n",
        "        x = self.decoder(x)\n",
        "        return x\n",
        "\n",
        "\n",
        "net = autoencoder()\n",
        "print(net)\n",
        "\n",
        "if use_gpu:\n",
        "    net = net.double().cuda()\n",
        "else:\n",
        "    net = net.double()"
      ],
      "execution_count": 4,
      "outputs": [
        {
          "output_type": "stream",
          "text": [
            "autoencoder(\n",
            "  (encoder): Sequential(\n",
            "    (0): Linear(in_features=784, out_features=400, bias=True)\n",
            "    (1): Tanh()\n",
            "  )\n",
            "  (decoder): Sequential(\n",
            "    (0): Linear(in_features=400, out_features=784, bias=True)\n",
            "    (1): Sigmoid()\n",
            "  )\n",
            ")\n"
          ],
          "name": "stdout"
        }
      ]
    },
    {
      "metadata": {
        "id": "58xTIjvoWXFA",
        "colab_type": "code",
        "colab": {
          "base_uri": "https://localhost:8080/",
          "height": 204
        },
        "outputId": "c82ef744-c9f7-410f-ac5c-7a3d35741942"
      },
      "cell_type": "code",
      "source": [
        "iterations = 10\n",
        "learning_rate = 0.98\n",
        "criterion = nn.MSELoss()\n",
        "\n",
        "\n",
        "for epoch in range(iterations):  # loop over the dataset multiple times\n",
        "    runningLoss = 0.0\n",
        "    for i, data in enumerate(trainloader, 0):\n",
        "        # get the inputs\n",
        "        inputs, labels = data\n",
        "        # wrap them in Variable\n",
        "        if use_gpu:\n",
        "            inputs = Variable(inputs.view(-1, 28*28).double()).cuda()\n",
        "        else:\n",
        "            inputs = Variable(inputs.view(-1, 28*28).double())\n",
        "\n",
        "        net.zero_grad()  # zeroes the gradient buffers of all parameters\n",
        "        outputs = net(inputs) # forward \n",
        "        loss = criterion(outputs, inputs) # calculate loss\n",
        "        loss.backward() #  backpropagate the loss\n",
        "        for f in net.parameters():\n",
        "            f.data.sub_(f.grad.data * learning_rate) # weight = weight - learning_rate * gradient (Update Weights)\n",
        "        runningLoss += loss.item()\n",
        "        \n",
        "    print('At Iteration : %d / %d  ;  Mean-Squared Error : %f'%(epoch + 1,iterations,\n",
        "                                                                        runningLoss/(60000/BatchSize)))\n",
        "print('Finished Training')"
      ],
      "execution_count": 5,
      "outputs": [
        {
          "output_type": "stream",
          "text": [
            "At Iteration : 1 / 10  ;  Mean-Squared Error : 0.141678\n",
            "At Iteration : 2 / 10  ;  Mean-Squared Error : 0.100866\n",
            "At Iteration : 3 / 10  ;  Mean-Squared Error : 0.090360\n",
            "At Iteration : 4 / 10  ;  Mean-Squared Error : 0.085187\n",
            "At Iteration : 5 / 10  ;  Mean-Squared Error : 0.080516\n",
            "At Iteration : 6 / 10  ;  Mean-Squared Error : 0.076088\n",
            "At Iteration : 7 / 10  ;  Mean-Squared Error : 0.072176\n",
            "At Iteration : 8 / 10  ;  Mean-Squared Error : 0.068861\n",
            "At Iteration : 9 / 10  ;  Mean-Squared Error : 0.066028\n",
            "At Iteration : 10 / 10  ;  Mean-Squared Error : 0.063536\n",
            "Finished Training\n"
          ],
          "name": "stdout"
        }
      ]
    },
    {
      "metadata": {
        "id": "7kvdFTrzWdBO",
        "colab_type": "code",
        "colab": {
          "base_uri": "https://localhost:8080/",
          "height": 323
        },
        "outputId": "5de539dd-f9ac-4cf9-e641-7c18cbd23cdc"
      },
      "cell_type": "code",
      "source": [
        "# Adding New Layer (Stacking)\n",
        "net.encoder.add_module('New_Encoder_Layer', nn.Sequential(nn.Linear(400, 256),nn.Tanh()))\n",
        "net.encoder.add_module('New_Decoder_Layer', nn.Sequential(nn.Linear(256, 400),nn.Tanh()))\n",
        "print(net)\n",
        "if use_gpu:\n",
        "    net = net.double().cuda()\n",
        "else:\n",
        "    net = net.double()"
      ],
      "execution_count": 6,
      "outputs": [
        {
          "output_type": "stream",
          "text": [
            "autoencoder(\n",
            "  (encoder): Sequential(\n",
            "    (0): Linear(in_features=784, out_features=400, bias=True)\n",
            "    (1): Tanh()\n",
            "    (New_Encoder_Layer): Sequential(\n",
            "      (0): Linear(in_features=400, out_features=256, bias=True)\n",
            "      (1): Tanh()\n",
            "    )\n",
            "    (New_Decoder_Layer): Sequential(\n",
            "      (0): Linear(in_features=256, out_features=400, bias=True)\n",
            "      (1): Tanh()\n",
            "    )\n",
            "  )\n",
            "  (decoder): Sequential(\n",
            "    (0): Linear(in_features=400, out_features=784, bias=True)\n",
            "    (1): Sigmoid()\n",
            "  )\n",
            ")\n"
          ],
          "name": "stdout"
        }
      ]
    },
    {
      "metadata": {
        "id": "xjTt7IqRW6fD",
        "colab_type": "code",
        "colab": {
          "base_uri": "https://localhost:8080/",
          "height": 187
        },
        "outputId": "7fe06de1-956f-4d88-8572-4ca1f1ff5ce3"
      },
      "cell_type": "code",
      "source": [
        "for epoch in range(iterations):  # loop over the dataset multiple times\n",
        "    runningLoss = 0.0\n",
        "    for i, data in enumerate(trainloader, 0):\n",
        "        # get the inputs\n",
        "        inputs, labels = data\n",
        "        # wrap them in Variable\n",
        "        if use_gpu:\n",
        "            inputs = Variable(inputs.view(-1, 28*28).double()).cuda()\n",
        "        else:\n",
        "            inputs = Variable(inputs.view(-1, 28*28).double())\n",
        "\n",
        "        net.zero_grad()  # zeroes the gradient buffers of all parameters\n",
        "        outputs = net(inputs) # forward \n",
        "        loss = criterion(outputs, inputs) # calculate loss\n",
        "        loss.backward() #  backpropagate the loss\n",
        "        for f in net.parameters():\n",
        "            f.data.sub_(f.grad.data * learning_rate) # weight = weight - learning_rate * gradient (Update Weights)\n",
        "        runningLoss += loss.item()\n",
        "        \n",
        "    print('At Iteration : %d / %d  ;  Mean-Squared Error : %f'%(epoch + 1,iterations,\n",
        "                                                                        runningLoss/(60000/BatchSize)))"
      ],
      "execution_count": 7,
      "outputs": [
        {
          "output_type": "stream",
          "text": [
            "At Iteration : 1 / 10  ;  Mean-Squared Error : 0.088448\n",
            "At Iteration : 2 / 10  ;  Mean-Squared Error : 0.069760\n",
            "At Iteration : 3 / 10  ;  Mean-Squared Error : 0.064347\n",
            "At Iteration : 4 / 10  ;  Mean-Squared Error : 0.059617\n",
            "At Iteration : 5 / 10  ;  Mean-Squared Error : 0.055989\n",
            "At Iteration : 6 / 10  ;  Mean-Squared Error : 0.053487\n",
            "At Iteration : 7 / 10  ;  Mean-Squared Error : 0.051686\n",
            "At Iteration : 8 / 10  ;  Mean-Squared Error : 0.050313\n",
            "At Iteration : 9 / 10  ;  Mean-Squared Error : 0.049237\n",
            "At Iteration : 10 / 10  ;  Mean-Squared Error : 0.048386\n"
          ],
          "name": "stdout"
        }
      ]
    },
    {
      "metadata": {
        "id": "XQ_I2o8sXDSm",
        "colab_type": "code",
        "colab": {
          "base_uri": "https://localhost:8080/",
          "height": 221
        },
        "outputId": "ea1a25fd-42aa-4204-e984-d1346f77a4fe"
      },
      "cell_type": "code",
      "source": [
        "# Removing the decoder module from the autoencoder\n",
        "new_classifier = nn.Sequential(*list(net.children())[:-1])\n",
        "net = new_classifier\n",
        "new_classifier = nn.Sequential(*list(net[0].children())[:-1])\n",
        "net = new_classifier\n",
        "# Adding linear layer for 10-class classification problem\n",
        "net.add_module('classifier', nn.Sequential(nn.Linear(256, 10),nn.LogSoftmax()))\n",
        "print(net)\n",
        "if use_gpu:\n",
        "    net = net.double().cuda()\n",
        "else:\n",
        "    net = net.double()"
      ],
      "execution_count": 8,
      "outputs": [
        {
          "output_type": "stream",
          "text": [
            "Sequential(\n",
            "  (0): Linear(in_features=784, out_features=400, bias=True)\n",
            "  (1): Tanh()\n",
            "  (2): Sequential(\n",
            "    (0): Linear(in_features=400, out_features=256, bias=True)\n",
            "    (1): Tanh()\n",
            "  )\n",
            "  (classifier): Sequential(\n",
            "    (0): Linear(in_features=256, out_features=10, bias=True)\n",
            "    (1): LogSoftmax()\n",
            "  )\n",
            ")\n"
          ],
          "name": "stdout"
        }
      ]
    },
    {
      "metadata": {
        "id": "op1LI1enXpK2",
        "colab_type": "code",
        "colab": {
          "base_uri": "https://localhost:8080/",
          "height": 258
        },
        "outputId": "082cc4bb-78dd-4ce1-d53a-d03bec1d6896"
      },
      "cell_type": "code",
      "source": [
        "iterations = 10\n",
        "learning_rate = 0.1\n",
        "criterion = nn.NLLLoss()\n",
        "\n",
        "for epoch in range(iterations):  # loop over the dataset multiple times\n",
        "\n",
        "    runningLoss = 0.0\n",
        "    for i, data in enumerate(trainloader, 0):\n",
        "        # get the inputs\n",
        "        inputs, labels = data\n",
        "        \n",
        "        # wrap them in Variable\n",
        "        if use_gpu:\n",
        "            inputs, labels = Variable(inputs.view(-1, 28*28).double()).cuda(), Variable(labels).cuda()\n",
        "        else:\n",
        "            inputs, labels = Variable(inputs.view(-1, 28*28).double()), Variable(labels)\n",
        "\n",
        "        net.zero_grad()  # zeroes the gradient buffers of all parameters\n",
        "        outputs = net(inputs) # forward \n",
        "        loss = criterion(outputs, labels) # calculate loss\n",
        "        loss.backward() #  backpropagate the loss\n",
        "        for f in net.parameters():\n",
        "            f.data.sub_(f.grad.data * learning_rate) # weight = weight - learning_rate * gradient (Update Weights)\n",
        "        runningLoss += loss.item()\n",
        "        correct = 0\n",
        "        total = 0\n",
        "    for data in testloader:\n",
        "        inputs, labels = data\n",
        "        if use_gpu:\n",
        "            inputs, labels = Variable(inputs.view(-1, 28*28).double()).cuda(), labels.cuda()\n",
        "        else:\n",
        "            inputs, labels = Variable(inputs.view(-1, 28*28).double()), labels\n",
        "        outputs = net(inputs)\n",
        "        _, predicted = torch.max(outputs.data, 1)\n",
        "        total += labels.size(0)\n",
        "        correct += (predicted == labels).sum()\n",
        "    print('At Iteration : %d / %d  ;  Train Error : %f ;Test Accuracy : %f'%(epoch + 1,iterations,\n",
        "                                                                        runningLoss/(60000/BatchSize),100 * correct /float(total)))\n",
        "print('Finished Training')"
      ],
      "execution_count": 9,
      "outputs": [
        {
          "output_type": "stream",
          "text": [
            "/usr/local/lib/python2.7/dist-packages/torch/nn/modules/container.py:92: UserWarning: Implicit dimension choice for log_softmax has been deprecated. Change the call to include dim=X as an argument.\n",
            "  input = module(input)\n"
          ],
          "name": "stderr"
        },
        {
          "output_type": "stream",
          "text": [
            "At Iteration : 1 / 10  ;  Train Error : 1.273473 ;Test Accuracy : 62.000000\n",
            "At Iteration : 2 / 10  ;  Train Error : 0.909001 ;Test Accuracy : 70.000000\n",
            "At Iteration : 3 / 10  ;  Train Error : 0.752855 ;Test Accuracy : 70.000000\n",
            "At Iteration : 4 / 10  ;  Train Error : 0.677095 ;Test Accuracy : 75.000000\n",
            "At Iteration : 5 / 10  ;  Train Error : 0.635191 ;Test Accuracy : 75.000000\n",
            "At Iteration : 6 / 10  ;  Train Error : 0.592736 ;Test Accuracy : 77.000000\n",
            "At Iteration : 7 / 10  ;  Train Error : 0.568192 ;Test Accuracy : 78.000000\n",
            "At Iteration : 8 / 10  ;  Train Error : 0.549371 ;Test Accuracy : 74.000000\n",
            "At Iteration : 9 / 10  ;  Train Error : 0.536974 ;Test Accuracy : 80.000000\n",
            "At Iteration : 10 / 10  ;  Train Error : 0.517696 ;Test Accuracy : 81.000000\n",
            "Finished Training\n"
          ],
          "name": "stdout"
        }
      ]
    },
    {
      "metadata": {
        "id": "PY2dJZ4ZW6dv",
        "colab_type": "code",
        "colab": {}
      },
      "cell_type": "code",
      "source": [
        ""
      ],
      "execution_count": 0,
      "outputs": []
    }
  ]
}
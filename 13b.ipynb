{
  "nbformat": 4,
  "nbformat_minor": 0,
  "metadata": {
    "colab": {
      "name": "13b.ipynb",
      "version": "0.3.2",
      "provenance": [],
      "include_colab_link": true
    },
    "kernelspec": {
      "name": "python2",
      "display_name": "Python 2"
    }
  },
  "cells": [
    {
      "cell_type": "markdown",
      "metadata": {
        "id": "view-in-github",
        "colab_type": "text"
      },
      "source": [
        "<a href=\"https://colab.research.google.com/github/subhobrata/deep-learning-for-visual-computing/blob/master/13b.ipynb\" target=\"_parent\"><img src=\"https://colab.research.google.com/assets/colab-badge.svg\" alt=\"Open In Colab\"/></a>"
      ]
    },
    {
      "metadata": {
        "id": "pptmMrZaBOGj",
        "colab_type": "code",
        "colab": {}
      },
      "cell_type": "code",
      "source": [
        "%matplotlib inline\n",
        "import os\n",
        "import struct\n",
        "import torch\n",
        "from PIL import Image\n",
        "import matplotlib.pyplot as plt\n",
        "import numpy as np\n",
        "import torchvision\n",
        "from torchvision import datasets"
      ],
      "execution_count": 0,
      "outputs": []
    },
    {
      "metadata": {
        "id": "mAUBRxS5BYZQ",
        "colab_type": "code",
        "colab": {}
      },
      "cell_type": "code",
      "source": [
        "import codecs"
      ],
      "execution_count": 0,
      "outputs": []
    },
    {
      "metadata": {
        "id": "MMW27cJBBbEV",
        "colab_type": "code",
        "colab": {
          "base_uri": "https://localhost:8080/",
          "height": 119
        },
        "outputId": "618ae7c1-40a4-40b4-a319-8583b584093e"
      },
      "cell_type": "code",
      "source": [
        "\n",
        "download = datasets.FashionMNIST('./FMNIST/', train=True, download=True)"
      ],
      "execution_count": 3,
      "outputs": [
        {
          "output_type": "stream",
          "text": [
            "Downloading http://fashion-mnist.s3-website.eu-central-1.amazonaws.com/train-images-idx3-ubyte.gz\n",
            "Downloading http://fashion-mnist.s3-website.eu-central-1.amazonaws.com/train-labels-idx1-ubyte.gz\n",
            "Downloading http://fashion-mnist.s3-website.eu-central-1.amazonaws.com/t10k-images-idx3-ubyte.gz\n",
            "Downloading http://fashion-mnist.s3-website.eu-central-1.amazonaws.com/t10k-labels-idx1-ubyte.gz\n",
            "Processing...\n",
            "Done!\n"
          ],
          "name": "stdout"
        }
      ]
    },
    {
      "metadata": {
        "id": "1PkGfHAVBehs",
        "colab_type": "code",
        "colab": {}
      },
      "cell_type": "code",
      "source": [
        "Datapath = 'FMNIST/raw/'"
      ],
      "execution_count": 0,
      "outputs": []
    },
    {
      "metadata": {
        "id": "_w940tLYBiRs",
        "colab_type": "code",
        "colab": {}
      },
      "cell_type": "code",
      "source": [
        "def get_int(b):\n",
        "    return int(codecs.encode(b, 'hex'), 16)"
      ],
      "execution_count": 0,
      "outputs": []
    },
    {
      "metadata": {
        "id": "2NYQnaNtBjdc",
        "colab_type": "code",
        "colab": {}
      },
      "cell_type": "code",
      "source": [
        "def parse_byte(b):\n",
        "    if isinstance(b, str):\n",
        "        return ord(b)\n",
        "    return b"
      ],
      "execution_count": 0,
      "outputs": []
    },
    {
      "metadata": {
        "id": "5rHrLzPVBnOs",
        "colab_type": "code",
        "colab": {}
      },
      "cell_type": "code",
      "source": [
        "def read_image_file(path):\n",
        "    with open(path, 'rb') as f:\n",
        "        data = f.read()\n",
        "        assert get_int(data[:4]) == 2051\n",
        "        length = get_int(data[4:8])\n",
        "        num_rows = get_int(data[8:12])\n",
        "        num_cols = get_int(data[12:16])\n",
        "        images = []\n",
        "        idx = 16\n",
        "        for l in range(length):\n",
        "            img = []\n",
        "            images.append(img)\n",
        "            for r in range(num_rows):\n",
        "                row = []\n",
        "                img.append(row)\n",
        "                for c in range(num_cols):\n",
        "                    row.append(parse_byte(data[idx]))\n",
        "                    idx += 1\n",
        "        assert len(images) == length\n",
        "        return torch.ByteTensor(images).view(-1,784)"
      ],
      "execution_count": 0,
      "outputs": []
    },
    {
      "metadata": {
        "id": "kVUgSj-XBpHm",
        "colab_type": "code",
        "colab": {}
      },
      "cell_type": "code",
      "source": [
        "\n",
        "def read_label_file(path):\n",
        "    with open(path, 'rb') as f:\n",
        "        data = f.read()\n",
        "        assert get_int(data[:4]) == 2049\n",
        "        length = get_int(data[4:8])\n",
        "        labels = [parse_byte(b) for b in data[8:]]\n",
        "        assert len(labels) == length\n",
        "        return torch.LongTensor(labels)"
      ],
      "execution_count": 0,
      "outputs": []
    },
    {
      "metadata": {
        "id": "l02oGUvDBrsk",
        "colab_type": "code",
        "colab": {}
      },
      "cell_type": "code",
      "source": [
        "TrainImages = read_image_file(os.path.join(Datapath, 'train-images-idx3-ubyte'))\n",
        "TrainLabels = read_label_file(os.path.join(Datapath, 'train-labels-idx1-ubyte'))\n",
        "TestImages = read_image_file(os.path.join(Datapath, 't10k-images-idx3-ubyte'))\n",
        "TestLabels = read_label_file(os.path.join(Datapath, 't10k-labels-idx1-ubyte'))"
      ],
      "execution_count": 0,
      "outputs": []
    },
    {
      "metadata": {
        "id": "BJzlzjDNBuJE",
        "colab_type": "code",
        "colab": {
          "base_uri": "https://localhost:8080/",
          "height": 85
        },
        "outputId": "f2b2c658-4c01-40a1-e765-f8c292f66e81"
      },
      "cell_type": "code",
      "source": [
        "print(TrainImages.size())\n",
        "print(TrainLabels.size())\n",
        "print(TestImages.size())\n",
        "print(TestLabels.size())"
      ],
      "execution_count": 10,
      "outputs": [
        {
          "output_type": "stream",
          "text": [
            "torch.Size([60000, 784])\n",
            "torch.Size([60000])\n",
            "torch.Size([10000, 784])\n",
            "torch.Size([10000])\n"
          ],
          "name": "stdout"
        }
      ]
    },
    {
      "metadata": {
        "id": "KDVIZSMXEWBk",
        "colab_type": "code",
        "colab": {}
      },
      "cell_type": "code",
      "source": [
        "use_gpu = torch.cuda.is_available()"
      ],
      "execution_count": 0,
      "outputs": []
    },
    {
      "metadata": {
        "id": "Nd3_Aa6DEY6V",
        "colab_type": "code",
        "colab": {
          "base_uri": "https://localhost:8080/",
          "height": 187
        },
        "outputId": "5f753791-7f3b-4380-e3c8-29948edae88c"
      },
      "cell_type": "code",
      "source": [
        "from torch.autograd import Variable\n",
        "import torch.nn as nn\n",
        "import torch.nn.functional as F\n",
        "import copy\n",
        "\n",
        "\n",
        "class autoencoder(nn.Module):\n",
        "    def __init__(self):\n",
        "        super(autoencoder, self).__init__()\n",
        "        self.encoder = nn.Sequential(\n",
        "            nn.Linear(28*28, 100),\n",
        "            nn.ReLU())\n",
        "        self.decoder = nn.Sequential(\n",
        "            nn.Linear(100, 28*28),\n",
        "            nn.ReLU())\n",
        "\n",
        "    def forward(self, x):\n",
        "        x = self.encoder(x)\n",
        "        x = self.decoder(x)\n",
        "        return x\n",
        "\n",
        "\n",
        "net = autoencoder()\n",
        "print(net)\n",
        "\n",
        "if use_gpu:\n",
        "    net = net.double().cuda()\n",
        "else:\n",
        "    net = net.double()\n",
        "        \n",
        "init_weights = copy.deepcopy(net.encoder[0].weight.data)"
      ],
      "execution_count": 12,
      "outputs": [
        {
          "output_type": "stream",
          "text": [
            "autoencoder(\n",
            "  (encoder): Sequential(\n",
            "    (0): Linear(in_features=784, out_features=100, bias=True)\n",
            "    (1): ReLU()\n",
            "  )\n",
            "  (decoder): Sequential(\n",
            "    (0): Linear(in_features=100, out_features=784, bias=True)\n",
            "    (1): ReLU()\n",
            "  )\n",
            ")\n"
          ],
          "name": "stdout"
        }
      ]
    },
    {
      "metadata": {
        "id": "akM14C7yEdhs",
        "colab_type": "code",
        "colab": {}
      },
      "cell_type": "code",
      "source": [
        "import torch.optim as optim\n",
        "\n",
        "criterion = nn.MSELoss()\n",
        "optimizer = optim.SGD(net.parameters(), lr=0.5, momentum=0.9)"
      ],
      "execution_count": 0,
      "outputs": []
    },
    {
      "metadata": {
        "id": "aiEQjKHxE3H2",
        "colab_type": "code",
        "colab": {
          "base_uri": "https://localhost:8080/",
          "height": 544
        },
        "outputId": "4d660e00-9e40-4a68-fae2-e8fe681909a6"
      },
      "cell_type": "code",
      "source": [
        "iterations = 30\n",
        "BatchSize = 1000\n",
        "for epoch in range(iterations):\n",
        "    runningLoss = 0\n",
        "    for i in range(TrainImages.size()[0]/BatchSize):\n",
        "        inputs = torch.index_select(TrainImages,0,torch.linspace(i*BatchSize,(i+1)*BatchSize - 1,steps=BatchSize)\n",
        "                                  .long()).double()\n",
        "        inputs = inputs/255\n",
        "        if use_gpu:\n",
        "            inputs = Variable(inputs).cuda()\n",
        "        else:\n",
        "            inputs = Variable(inputs)\n",
        "        optimizer.zero_grad()\n",
        "        outputs = net(inputs)\n",
        "        loss = criterion(outputs, inputs)\n",
        "        loss.backward()\n",
        "        optimizer.step()\n",
        "        runningLoss += loss.item()\n",
        "    print('At Iteration : %d / %d  ;  Mean-Squared Error : %f'%(epoch + 1,iterations,runningLoss/\n",
        "                                                                (TrainImages.size()[0]/BatchSize)))\n",
        "print('Finished Training')"
      ],
      "execution_count": 14,
      "outputs": [
        {
          "output_type": "stream",
          "text": [
            "At Iteration : 1 / 30  ;  Mean-Squared Error : 0.101950\n",
            "At Iteration : 2 / 30  ;  Mean-Squared Error : 0.061116\n",
            "At Iteration : 3 / 30  ;  Mean-Squared Error : 0.049305\n",
            "At Iteration : 4 / 30  ;  Mean-Squared Error : 0.044327\n",
            "At Iteration : 5 / 30  ;  Mean-Squared Error : 0.040962\n",
            "At Iteration : 6 / 30  ;  Mean-Squared Error : 0.038959\n",
            "At Iteration : 7 / 30  ;  Mean-Squared Error : 0.037400\n",
            "At Iteration : 8 / 30  ;  Mean-Squared Error : 0.036149\n",
            "At Iteration : 9 / 30  ;  Mean-Squared Error : 0.035116\n",
            "At Iteration : 10 / 30  ;  Mean-Squared Error : 0.034052\n",
            "At Iteration : 11 / 30  ;  Mean-Squared Error : 0.033307\n",
            "At Iteration : 12 / 30  ;  Mean-Squared Error : 0.032583\n",
            "At Iteration : 13 / 30  ;  Mean-Squared Error : 0.032100\n",
            "At Iteration : 14 / 30  ;  Mean-Squared Error : 0.031645\n",
            "At Iteration : 15 / 30  ;  Mean-Squared Error : 0.031200\n",
            "At Iteration : 16 / 30  ;  Mean-Squared Error : 0.030698\n",
            "At Iteration : 17 / 30  ;  Mean-Squared Error : 0.030198\n",
            "At Iteration : 18 / 30  ;  Mean-Squared Error : 0.029846\n",
            "At Iteration : 19 / 30  ;  Mean-Squared Error : 0.029552\n",
            "At Iteration : 20 / 30  ;  Mean-Squared Error : 0.029273\n",
            "At Iteration : 21 / 30  ;  Mean-Squared Error : 0.029018\n",
            "At Iteration : 22 / 30  ;  Mean-Squared Error : 0.028784\n",
            "At Iteration : 23 / 30  ;  Mean-Squared Error : 0.028566\n",
            "At Iteration : 24 / 30  ;  Mean-Squared Error : 0.028363\n",
            "At Iteration : 25 / 30  ;  Mean-Squared Error : 0.028171\n",
            "At Iteration : 26 / 30  ;  Mean-Squared Error : 0.027973\n",
            "At Iteration : 27 / 30  ;  Mean-Squared Error : 0.027555\n",
            "At Iteration : 28 / 30  ;  Mean-Squared Error : 0.027302\n",
            "At Iteration : 29 / 30  ;  Mean-Squared Error : 0.027096\n",
            "At Iteration : 30 / 30  ;  Mean-Squared Error : 0.026853\n",
            "Finished Training\n"
          ],
          "name": "stdout"
        }
      ]
    },
    {
      "metadata": {
        "id": "Z-ebTG7wFDMr",
        "colab_type": "code",
        "colab": {
          "base_uri": "https://localhost:8080/",
          "height": 215
        },
        "outputId": "407e1753-ab24-4bdb-9c83-757155b40055"
      },
      "cell_type": "code",
      "source": [
        "TestImg = torch.index_select(TestImages,0,torch.LongTensor([1]))\n",
        "if use_gpu:\n",
        "    outputImg = net(Variable((TestImg.double().cuda())/255)).data\n",
        "    outputImg = (outputImg*255).byte()\n",
        "    outputImg = outputImg.view(-1,28,28).cpu()\n",
        "else:\n",
        "    outputImg = net(Variable((TestImg.double())/255)).data\n",
        "    outputImg = (outputImg*255).byte()\n",
        "    outputImg = outputImg.view(-1,28,28)\n",
        "\n",
        "TestImg = TestImg.view(-1,28,28)\n",
        "\n",
        "fig = plt.figure()\n",
        "plot=fig.add_subplot(1,2,1)\n",
        "img = np.array(TestImg.numpy())[0]\n",
        "plot.set_title('Original Image')\n",
        "imgplot = plt.imshow(img,cmap='gray')\n",
        "\n",
        "plot=fig.add_subplot(1,2,2)\n",
        "img = np.array(outputImg.numpy())[0]\n",
        "plot.set_title('Reconstructed Image')\n",
        "imgplot = plt.imshow(img,cmap='gray')\n",
        "plt.show()"
      ],
      "execution_count": 15,
      "outputs": [
        {
          "output_type": "display_data",
          "data": {
            "image/png": "[encoded data removed]",
            "text/plain": [
              "<Figure size 432x288 with 2 Axes>"
            ]
          },
          "metadata": {
            "tags": []
          }
        }
      ]
    },
    {
      "metadata": {
        "id": "foDgajRjFey-",
        "colab_type": "code",
        "colab": {
          "base_uri": "https://localhost:8080/",
          "height": 289
        },
        "outputId": "4069f824-3561-48d1-ba6e-67ce6fd73e91"
      },
      "cell_type": "code",
      "source": [
        "net.encoder.add_module('layer', nn.Sequential(nn.Linear(100, 100),nn.ReLU(),nn.Linear(100, 100),nn.ReLU()))\n",
        "print(net)\n",
        "if use_gpu:\n",
        "    net = net.double().cuda()\n",
        "else:\n",
        "    net = net.double()"
      ],
      "execution_count": 16,
      "outputs": [
        {
          "output_type": "stream",
          "text": [
            "autoencoder(\n",
            "  (encoder): Sequential(\n",
            "    (0): Linear(in_features=784, out_features=100, bias=True)\n",
            "    (1): ReLU()\n",
            "    (layer): Sequential(\n",
            "      (0): Linear(in_features=100, out_features=100, bias=True)\n",
            "      (1): ReLU()\n",
            "      (2): Linear(in_features=100, out_features=100, bias=True)\n",
            "      (3): ReLU()\n",
            "    )\n",
            "  )\n",
            "  (decoder): Sequential(\n",
            "    (0): Linear(in_features=100, out_features=784, bias=True)\n",
            "    (1): ReLU()\n",
            "  )\n",
            ")\n"
          ],
          "name": "stdout"
        }
      ]
    },
    {
      "metadata": {
        "id": "8phfQ5mIFh2F",
        "colab_type": "code",
        "colab": {
          "base_uri": "https://localhost:8080/",
          "height": 544
        },
        "outputId": "9e6bc705-aaf3-44ae-a320-8991caa6d995"
      },
      "cell_type": "code",
      "source": [
        "iterations = 30\n",
        "BatchSize = 1000\n",
        "for epoch in range(iterations):\n",
        "    runningLoss = 0\n",
        "    for i in range(TrainImages.size()[0]/BatchSize):\n",
        "        inputs = torch.index_select(TrainImages,0,torch.linspace(i*BatchSize,(i+1)*BatchSize - 1,steps=BatchSize)\n",
        "                                  .long()).double()\n",
        "        inputs = inputs/255\n",
        "        if use_gpu:\n",
        "            inputs = Variable(inputs).cuda()\n",
        "        else:\n",
        "            inputs = Variable(inputs)\n",
        "        optimizer.zero_grad()\n",
        "        outputs = net(inputs)\n",
        "        loss = criterion(outputs, inputs)\n",
        "        loss.backward()\n",
        "        optimizer.step()\n",
        "        runningLoss += loss.item()\n",
        "    print('At Iteration : %d / %d  ;  Mean-Squared Error : %f'%(epoch + 1,iterations,runningLoss/\n",
        "                                                                (TrainImages.size()[0]/BatchSize)))\n",
        "print('Finished Training')"
      ],
      "execution_count": 17,
      "outputs": [
        {
          "output_type": "stream",
          "text": [
            "At Iteration : 1 / 30  ;  Mean-Squared Error : 0.105920\n",
            "At Iteration : 2 / 30  ;  Mean-Squared Error : 0.068012\n",
            "At Iteration : 3 / 30  ;  Mean-Squared Error : 0.057516\n",
            "At Iteration : 4 / 30  ;  Mean-Squared Error : 0.051383\n",
            "At Iteration : 5 / 30  ;  Mean-Squared Error : 0.047471\n",
            "At Iteration : 6 / 30  ;  Mean-Squared Error : 0.044948\n",
            "At Iteration : 7 / 30  ;  Mean-Squared Error : 0.043530\n",
            "At Iteration : 8 / 30  ;  Mean-Squared Error : 0.041744\n",
            "At Iteration : 9 / 30  ;  Mean-Squared Error : 0.040469\n",
            "At Iteration : 10 / 30  ;  Mean-Squared Error : 0.039622\n",
            "At Iteration : 11 / 30  ;  Mean-Squared Error : 0.039036\n",
            "At Iteration : 12 / 30  ;  Mean-Squared Error : 0.038471\n",
            "At Iteration : 13 / 30  ;  Mean-Squared Error : 0.037383\n",
            "At Iteration : 14 / 30  ;  Mean-Squared Error : 0.036583\n",
            "At Iteration : 15 / 30  ;  Mean-Squared Error : 0.036039\n",
            "At Iteration : 16 / 30  ;  Mean-Squared Error : 0.035514\n",
            "At Iteration : 17 / 30  ;  Mean-Squared Error : 0.035132\n",
            "At Iteration : 18 / 30  ;  Mean-Squared Error : 0.034742\n",
            "At Iteration : 19 / 30  ;  Mean-Squared Error : 0.034469\n",
            "At Iteration : 20 / 30  ;  Mean-Squared Error : 0.034221\n",
            "At Iteration : 21 / 30  ;  Mean-Squared Error : 0.033986\n",
            "At Iteration : 22 / 30  ;  Mean-Squared Error : 0.033674\n",
            "At Iteration : 23 / 30  ;  Mean-Squared Error : 0.033338\n",
            "At Iteration : 24 / 30  ;  Mean-Squared Error : 0.033073\n",
            "At Iteration : 25 / 30  ;  Mean-Squared Error : 0.032882\n",
            "At Iteration : 26 / 30  ;  Mean-Squared Error : 0.032706\n",
            "At Iteration : 27 / 30  ;  Mean-Squared Error : 0.032529\n",
            "At Iteration : 28 / 30  ;  Mean-Squared Error : 0.032301\n",
            "At Iteration : 29 / 30  ;  Mean-Squared Error : 0.032137\n",
            "At Iteration : 30 / 30  ;  Mean-Squared Error : 0.031991\n",
            "Finished Training\n"
          ],
          "name": "stdout"
        }
      ]
    },
    {
      "metadata": {
        "id": "HXQKjIDoFlGF",
        "colab_type": "code",
        "colab": {
          "base_uri": "https://localhost:8080/",
          "height": 215
        },
        "outputId": "74080cd4-e314-4d18-e350-3c28cafcea1a"
      },
      "cell_type": "code",
      "source": [
        "TestImg = torch.index_select(TestImages,0,torch.LongTensor([1]))\n",
        "if use_gpu:\n",
        "    outputImg = net(Variable((TestImg.double().cuda())/255)).data\n",
        "    outputImg = (outputImg*255).byte()\n",
        "    outputImg = outputImg.view(-1,28,28).cpu()\n",
        "else:\n",
        "    outputImg = net(Variable((TestImg.double())/255)).data\n",
        "    outputImg = (outputImg*255).byte()\n",
        "    outputImg = outputImg.view(-1,28,28)\n",
        "\n",
        "TestImg = TestImg.view(-1,28,28)\n",
        "\n",
        "fig = plt.figure()\n",
        "plot=fig.add_subplot(1,2,1)\n",
        "img = np.array(TestImg.numpy())[0]\n",
        "plot.set_title('Original Image')\n",
        "imgplot = plt.imshow(img,cmap='gray')\n",
        "\n",
        "plot=fig.add_subplot(1,2,2)\n",
        "img = np.array(outputImg.numpy())[0]\n",
        "plot.set_title('Reconstructed Image')\n",
        "imgplot = plt.imshow(img,cmap='gray')\n",
        "plt.show()"
      ],
      "execution_count": 18,
      "outputs": [
        {
          "output_type": "display_data",
          "data": {
            "image/png": "[encoded data removed]",
            "text/plain": [
              "<Figure size 432x288 with 2 Axes>"
            ]
          },
          "metadata": {
            "tags": []
          }
        }
      ]
    },
    {
      "metadata": {
        "id": "k7hf0lmzG3HH",
        "colab_type": "code",
        "colab": {
          "base_uri": "https://localhost:8080/",
          "height": 153
        },
        "outputId": "89450e64-725e-4ad0-ab00-c674fc27dba1"
      },
      "cell_type": "code",
      "source": [
        "new_classifier = nn.Sequential(*list(net.children())[:-1])\n",
        "new_classifier = nn.Sequential(*list(new_classifier[0].children())[:-1])\n",
        "net = new_classifier\n",
        "net.add_module('classifier', nn.Sequential(nn.Linear(100, 10),nn.LogSoftmax()))\n",
        "print(net)\n",
        "if use_gpu:\n",
        "    net = net.double().cuda()\n",
        "else:\n",
        "    net = net.double()"
      ],
      "execution_count": 19,
      "outputs": [
        {
          "output_type": "stream",
          "text": [
            "Sequential(\n",
            "  (0): Linear(in_features=784, out_features=100, bias=True)\n",
            "  (1): ReLU()\n",
            "  (classifier): Sequential(\n",
            "    (0): Linear(in_features=100, out_features=10, bias=True)\n",
            "    (1): LogSoftmax()\n",
            "  )\n",
            ")\n"
          ],
          "name": "stdout"
        }
      ]
    },
    {
      "metadata": {
        "id": "l5yZ7JiVG6SE",
        "colab_type": "code",
        "colab": {}
      },
      "cell_type": "code",
      "source": [
        "criterion = nn.NLLLoss()\n",
        "optimizer = optim.SGD(net.parameters(), lr=0.01, momentum=0.9)"
      ],
      "execution_count": 0,
      "outputs": []
    },
    {
      "metadata": {
        "id": "KEa9yeKRG9R8",
        "colab_type": "code",
        "colab": {
          "base_uri": "https://localhost:8080/",
          "height": 598
        },
        "outputId": "bec7d00e-ce3f-474d-dca5-5e6c9693088b"
      },
      "cell_type": "code",
      "source": [
        "iterations = 30\n",
        "BatchSize = 1000\n",
        "for epoch in range(iterations):\n",
        "    runningLoss = 0\n",
        "    for i in range(TrainImages.size()[0]/BatchSize):\n",
        "        inputs = torch.index_select(TrainImages,0,torch.linspace(i*BatchSize,(i+1)*BatchSize - 1,steps=BatchSize)\n",
        "                                  .long()).double()\n",
        "        labels = torch.index_select(TrainLabels,0,torch.linspace(i*BatchSize,(i+1)*BatchSize - 1,steps=BatchSize)\n",
        "                                  .long()).long()\n",
        "        inputs = inputs/255\n",
        "        if use_gpu:\n",
        "            inputs, labels = Variable(inputs.cuda()), Variable(labels.cuda())\n",
        "        else:\n",
        "            inputs, labels = Variable(inputs), Variable(labels)\n",
        "        optimizer.zero_grad()\n",
        "        outputs = net(inputs)\n",
        "        loss = criterion(outputs, labels)\n",
        "        loss.backward()\n",
        "        optimizer.step()\n",
        "        runningLoss += loss.item()\n",
        "    inputs = TestImages.double()/255\n",
        "    if use_gpu:\n",
        "        inputs = Variable(inputs.cuda())\n",
        "        outputs = net(inputs)\n",
        "        _, predicted = torch.max(outputs.data, 1)\n",
        "        predicted = predicted.cpu()\n",
        "    else:\n",
        "        inputs = Variable(inputs)\n",
        "        outputs = net(inputs)\n",
        "        _, predicted = torch.max(outputs.data, 1)\n",
        "    correct = 0\n",
        "    total = 0\n",
        "    total += TestLabels.size(0)\n",
        "    correct += (predicted == TestLabels).sum()\n",
        "    print('At Iteration: %d / %d  ;  Training Loss: %f ; Testing Acc: %f '%(epoch + 1,iterations,runningLoss/\n",
        "                                                                            (TrainImages.size()[0]/\n",
        "                                                                             BatchSize),(100 * correct/ float(total))))\n",
        "print('Finished Training')"
      ],
      "execution_count": 21,
      "outputs": [
        {
          "output_type": "stream",
          "text": [
            "/usr/local/lib/python2.7/dist-packages/torch/nn/modules/container.py:92: UserWarning: Implicit dimension choice for log_softmax has been deprecated. Change the call to include dim=X as an argument.\n",
            "  input = module(input)\n"
          ],
          "name": "stderr"
        },
        {
          "output_type": "stream",
          "text": [
            "At Iteration: 1 / 30  ;  Training Loss: 1.337060 ; Testing Acc: 73.000000 \n",
            "At Iteration: 2 / 30  ;  Training Loss: 0.663576 ; Testing Acc: 77.000000 \n",
            "At Iteration: 3 / 30  ;  Training Loss: 0.603345 ; Testing Acc: 78.000000 \n",
            "At Iteration: 4 / 30  ;  Training Loss: 0.567410 ; Testing Acc: 79.000000 \n",
            "At Iteration: 5 / 30  ;  Training Loss: 0.541909 ; Testing Acc: 80.000000 \n",
            "At Iteration: 6 / 30  ;  Training Loss: 0.522729 ; Testing Acc: 80.000000 \n",
            "At Iteration: 7 / 30  ;  Training Loss: 0.507602 ; Testing Acc: 81.000000 \n",
            "At Iteration: 8 / 30  ;  Training Loss: 0.495263 ; Testing Acc: 81.000000 \n",
            "At Iteration: 9 / 30  ;  Training Loss: 0.484908 ; Testing Acc: 82.000000 \n",
            "At Iteration: 10 / 30  ;  Training Loss: 0.476005 ; Testing Acc: 82.000000 \n",
            "At Iteration: 11 / 30  ;  Training Loss: 0.468211 ; Testing Acc: 82.000000 \n",
            "At Iteration: 12 / 30  ;  Training Loss: 0.461288 ; Testing Acc: 82.000000 \n",
            "At Iteration: 13 / 30  ;  Training Loss: 0.455044 ; Testing Acc: 82.000000 \n",
            "At Iteration: 14 / 30  ;  Training Loss: 0.449323 ; Testing Acc: 83.000000 \n",
            "At Iteration: 15 / 30  ;  Training Loss: 0.444003 ; Testing Acc: 83.000000 \n",
            "At Iteration: 16 / 30  ;  Training Loss: 0.439101 ; Testing Acc: 83.000000 \n",
            "At Iteration: 17 / 30  ;  Training Loss: 0.434545 ; Testing Acc: 83.000000 \n",
            "At Iteration: 18 / 30  ;  Training Loss: 0.430270 ; Testing Acc: 83.000000 \n",
            "At Iteration: 19 / 30  ;  Training Loss: 0.426244 ; Testing Acc: 84.000000 \n",
            "At Iteration: 20 / 30  ;  Training Loss: 0.422405 ; Testing Acc: 84.000000 \n",
            "At Iteration: 21 / 30  ;  Training Loss: 0.418745 ; Testing Acc: 84.000000 \n",
            "At Iteration: 22 / 30  ;  Training Loss: 0.415192 ; Testing Acc: 84.000000 \n",
            "At Iteration: 23 / 30  ;  Training Loss: 0.411875 ; Testing Acc: 84.000000 \n",
            "At Iteration: 24 / 30  ;  Training Loss: 0.408795 ; Testing Acc: 84.000000 \n",
            "At Iteration: 25 / 30  ;  Training Loss: 0.405885 ; Testing Acc: 84.000000 \n",
            "At Iteration: 26 / 30  ;  Training Loss: 0.403121 ; Testing Acc: 84.000000 \n",
            "At Iteration: 27 / 30  ;  Training Loss: 0.400500 ; Testing Acc: 84.000000 \n",
            "At Iteration: 28 / 30  ;  Training Loss: 0.397962 ; Testing Acc: 84.000000 \n",
            "At Iteration: 29 / 30  ;  Training Loss: 0.395565 ; Testing Acc: 84.000000 \n",
            "At Iteration: 30 / 30  ;  Training Loss: 0.393270 ; Testing Acc: 84.000000 \n",
            "Finished Training\n"
          ],
          "name": "stdout"
        }
      ]
    }
  ]
}